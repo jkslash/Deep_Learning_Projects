{
 "cells": [
  {
   "cell_type": "code",
   "execution_count": 16,
   "metadata": {},
   "outputs": [
    {
     "name": "stdout",
     "output_type": "stream",
     "text": [
      "E:\\leaves\n"
     ]
    }
   ],
   "source": [
    "%cd E:\\leaves"
   ]
  },
  {
   "cell_type": "code",
   "execution_count": 17,
   "metadata": {},
   "outputs": [],
   "source": [
    "import os"
   ]
  },
  {
   "cell_type": "code",
   "execution_count": 18,
   "metadata": {},
   "outputs": [],
   "source": [
    "#for images .jpg .png"
   ]
  },
  {
   "cell_type": "code",
   "execution_count": 19,
   "metadata": {},
   "outputs": [],
   "source": [
    "path = 'tomato/'\n",
    "counter = 1\n",
    "for f in os.listdir(path):\n",
    "    suffix = f.split('.')[-1]\n",
    "    if suffix == 'jpg' or suffix == 'png':\n",
    "        new = '{}.{}'.format(str(counter), suffix)\n",
    "        os.rename(path + f, path + new)\n",
    "        counter = int(counter) + 1"
   ]
  },
  {
   "cell_type": "code",
   "execution_count": 20,
   "metadata": {},
   "outputs": [],
   "source": [
    "#for images .xml"
   ]
  },
  {
   "cell_type": "code",
   "execution_count": 15,
   "metadata": {},
   "outputs": [],
   "source": [
    "path = 'anno/'\n",
    "counter = 1\n",
    "for f in os.listdir(path):\n",
    "    suffix = f.split('.')[-1]\n",
    "    if suffix == 'xml':\n",
    "        new = '{}.{}'.format(str(counter), suffix)\n",
    "        os.rename(path + f, path + new)\n",
    "        counter = int(counter) + 1"
   ]
  },
  {
   "cell_type": "code",
   "execution_count": null,
   "metadata": {},
   "outputs": [],
   "source": []
  }
 ],
 "metadata": {
  "kernelspec": {
   "display_name": "Python 3.6 (tensorflow)",
   "language": "python",
   "name": "tensorflow"
  },
  "language_info": {
   "codemirror_mode": {
    "name": "ipython",
    "version": 3
   },
   "file_extension": ".py",
   "mimetype": "text/x-python",
   "name": "python",
   "nbconvert_exporter": "python",
   "pygments_lexer": "ipython3",
   "version": "3.6.8"
  }
 },
 "nbformat": 4,
 "nbformat_minor": 2
}

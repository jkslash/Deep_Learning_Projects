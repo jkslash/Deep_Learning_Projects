{
 "cells": [
  {
   "cell_type": "code",
   "execution_count": null,
   "metadata": {},
   "outputs": [],
   "source": [
    "import matplotlib.pyplot as plt\n",
    "from matplotlib.lines import Line2D\n",
    "import numpy as np\n",
    "import dicom\n",
    "\n",
    "\n",
    "class Annotator(object):\n",
    "    def __init__(self, axes):\n",
    "        self.axes = axes\n",
    "\n",
    "        self.xdata = []\n",
    "        self.ydata = []\n",
    "\n",
    "    def mouse_move(self, event):\n",
    "        if not event.inaxes:\n",
    "            return\n",
    "\n",
    "        x, y = event.xdata, event.ydata\n",
    "\n",
    "        self.xdata.append(x)\n",
    "        self.ydata.append(y)\n",
    "        line = Line2D(self.xdata,self.ydata)\n",
    "        line.set_color('r')\n",
    "        self.axes.add_line(line)\n",
    "\n",
    "        plt.draw()\n",
    "        \n",
    "        \n",
    "    def mouse_release(self, event):\n",
    "        # Erase x and y data for new line\n",
    "        self.xdata = []\n",
    "        self.ydata = []\n",
    "\n",
    "path = '../sample.dcm'\n",
    "\n",
    "data = dicom.read_file(path)\n",
    "\n",
    "img = data.pixel_array\n",
    "\n",
    "fig, axes = plt.subplots()\n",
    "axes.imshow(img[0])\n",
    "plt.axis(\"off\")\n",
    "plt.gray()\n",
    "annotator = Annotator(axes)\n",
    "plt.connect('motion_notify_event', cursor.mouse_move)\n",
    "plt.connect('button_release_event', cursor.mouse_release)\n",
    "\n",
    "axes.plot()\n",
    "\n",
    "plt.show()"
   ]
  },
  {
   "cell_type": "code",
   "execution_count": 4,
   "metadata": {},
   "outputs": [],
   "source": [
    "import matplotlib.pyplot as plt\n",
    "from matplotlib.lines import Line2D\n",
    "import numpy as np\n",
    "import dicom"
   ]
  },
  {
   "cell_type": "code",
   "execution_count": 6,
   "metadata": {},
   "outputs": [],
   "source": [
    "%matplotlib inline"
   ]
  },
  {
   "cell_type": "code",
   "execution_count": 5,
   "metadata": {},
   "outputs": [],
   "source": [
    "class Annotator(object):\n",
    "    def __init__(self, axes):\n",
    "        self.axes = axes\n",
    "\n",
    "        self.xdata = []\n",
    "        self.ydata = []\n",
    "\n",
    "    def mouse_move(self, event):\n",
    "        if not event.inaxes:\n",
    "            return\n",
    "\n",
    "        x, y = event.xdata, event.ydata\n",
    "\n",
    "        self.xdata.append(x)\n",
    "        self.ydata.append(y)\n",
    "        line = Line2D(self.xdata,self.ydata)\n",
    "        line.set_color('r')\n",
    "        self.axes.add_line(line)\n",
    "\n",
    "        plt.draw()\n",
    "        \n",
    "        \n",
    "    def mouse_release(self, event):\n",
    "        # Erase x and y data for new line\n",
    "        self.xdata = []\n",
    "        self.ydata = []\n"
   ]
  },
  {
   "cell_type": "code",
   "execution_count": null,
   "metadata": {},
   "outputs": [],
   "source": [
    "path = '../sample.dcm'\n",
    "\n",
    "data = dicom.read_file(path)\n",
    "\n",
    "img = data.pixel_array\n",
    "\n",
    "fig, axes = plt.subplots()\n",
    "axes.imshow(img[0])\n",
    "plt.axis(\"off\")\n",
    "plt.gray()\n",
    "annotator = Annotator(axes)\n",
    "plt.connect('motion_notify_event', cursor.mouse_move)\n",
    "plt.connect('button_release_event', cursor.mouse_release)\n",
    "\n",
    "axes.plot()\n",
    "\n",
    "plt.show()"
   ]
  }
 ],
 "metadata": {
  "kernelspec": {
   "display_name": "Python 3.6 (tensorflow)",
   "language": "python",
   "name": "tensorflow"
  },
  "language_info": {
   "codemirror_mode": {
    "name": "ipython",
    "version": 3
   },
   "file_extension": ".py",
   "mimetype": "text/x-python",
   "name": "python",
   "nbconvert_exporter": "python",
   "pygments_lexer": "ipython3",
   "version": "3.6.8"
  }
 },
 "nbformat": 4,
 "nbformat_minor": 2
}

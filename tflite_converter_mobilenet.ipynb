{
 "cells": [
  {
   "cell_type": "code",
   "execution_count": 1,
   "metadata": {},
   "outputs": [],
   "source": [
    "import tensorflow as tf"
   ]
  },
  {
   "cell_type": "code",
   "execution_count": 12,
   "metadata": {},
   "outputs": [
    {
     "name": "stdout",
     "output_type": "stream",
     "text": [
      "D:\\working_sessions\\tomato_claassify\\tf_files\n"
     ]
    }
   ],
   "source": [
    "%cd D:\\working_sessions\\tomato_claassify\\tf_files"
   ]
  },
  {
   "cell_type": "code",
   "execution_count": 13,
   "metadata": {},
   "outputs": [
    {
     "data": {
      "text/plain": [
       "5448647"
      ]
     },
     "execution_count": 13,
     "metadata": {},
     "output_type": "execute_result"
    }
   ],
   "source": [
    "gf = tf.GraphDef()\n",
    "gf.ParseFromString(open('rounded_graph.pb','rb').read())"
   ]
  },
  {
   "cell_type": "code",
   "execution_count": 14,
   "metadata": {},
   "outputs": [
    {
     "data": {
      "text/plain": [
       "['MobilenetV1/MobilenetV1/Conv2d_0/BatchNorm/batchnorm/mul=>Mul',\n",
       " 'MobilenetV1/MobilenetV1/Conv2d_0/BatchNorm/batchnorm/mul_1=>Mul',\n",
       " 'MobilenetV1/MobilenetV1/Conv2d_0/BatchNorm/batchnorm/mul_2=>Mul',\n",
       " 'MobilenetV1/MobilenetV1/Conv2d_1_depthwise/BatchNorm/batchnorm/mul=>Mul',\n",
       " 'MobilenetV1/MobilenetV1/Conv2d_1_depthwise/BatchNorm/batchnorm/mul_1=>Mul',\n",
       " 'MobilenetV1/MobilenetV1/Conv2d_1_depthwise/BatchNorm/batchnorm/mul_2=>Mul',\n",
       " 'MobilenetV1/MobilenetV1/Conv2d_1_pointwise/BatchNorm/batchnorm/mul=>Mul',\n",
       " 'MobilenetV1/MobilenetV1/Conv2d_1_pointwise/BatchNorm/batchnorm/mul_1=>Mul',\n",
       " 'MobilenetV1/MobilenetV1/Conv2d_1_pointwise/BatchNorm/batchnorm/mul_2=>Mul',\n",
       " 'MobilenetV1/MobilenetV1/Conv2d_2_depthwise/BatchNorm/batchnorm/mul=>Mul',\n",
       " 'MobilenetV1/MobilenetV1/Conv2d_2_depthwise/BatchNorm/batchnorm/mul_1=>Mul',\n",
       " 'MobilenetV1/MobilenetV1/Conv2d_2_depthwise/BatchNorm/batchnorm/mul_2=>Mul',\n",
       " 'MobilenetV1/MobilenetV1/Conv2d_2_pointwise/BatchNorm/batchnorm/mul=>Mul',\n",
       " 'MobilenetV1/MobilenetV1/Conv2d_2_pointwise/BatchNorm/batchnorm/mul_1=>Mul',\n",
       " 'MobilenetV1/MobilenetV1/Conv2d_2_pointwise/BatchNorm/batchnorm/mul_2=>Mul',\n",
       " 'MobilenetV1/MobilenetV1/Conv2d_3_depthwise/BatchNorm/batchnorm/mul=>Mul',\n",
       " 'MobilenetV1/MobilenetV1/Conv2d_3_depthwise/BatchNorm/batchnorm/mul_1=>Mul',\n",
       " 'MobilenetV1/MobilenetV1/Conv2d_3_depthwise/BatchNorm/batchnorm/mul_2=>Mul',\n",
       " 'MobilenetV1/MobilenetV1/Conv2d_3_pointwise/BatchNorm/batchnorm/mul=>Mul',\n",
       " 'MobilenetV1/MobilenetV1/Conv2d_3_pointwise/BatchNorm/batchnorm/mul_1=>Mul',\n",
       " 'MobilenetV1/MobilenetV1/Conv2d_3_pointwise/BatchNorm/batchnorm/mul_2=>Mul',\n",
       " 'MobilenetV1/MobilenetV1/Conv2d_4_depthwise/BatchNorm/batchnorm/mul=>Mul',\n",
       " 'MobilenetV1/MobilenetV1/Conv2d_4_depthwise/BatchNorm/batchnorm/mul_1=>Mul',\n",
       " 'MobilenetV1/MobilenetV1/Conv2d_4_depthwise/BatchNorm/batchnorm/mul_2=>Mul',\n",
       " 'MobilenetV1/MobilenetV1/Conv2d_4_pointwise/BatchNorm/batchnorm/mul=>Mul',\n",
       " 'MobilenetV1/MobilenetV1/Conv2d_4_pointwise/BatchNorm/batchnorm/mul_1=>Mul',\n",
       " 'MobilenetV1/MobilenetV1/Conv2d_4_pointwise/BatchNorm/batchnorm/mul_2=>Mul',\n",
       " 'MobilenetV1/MobilenetV1/Conv2d_5_depthwise/BatchNorm/batchnorm/mul=>Mul',\n",
       " 'MobilenetV1/MobilenetV1/Conv2d_5_depthwise/BatchNorm/batchnorm/mul_1=>Mul',\n",
       " 'MobilenetV1/MobilenetV1/Conv2d_5_depthwise/BatchNorm/batchnorm/mul_2=>Mul',\n",
       " 'MobilenetV1/MobilenetV1/Conv2d_5_pointwise/BatchNorm/batchnorm/mul=>Mul',\n",
       " 'MobilenetV1/MobilenetV1/Conv2d_5_pointwise/BatchNorm/batchnorm/mul_1=>Mul',\n",
       " 'MobilenetV1/MobilenetV1/Conv2d_5_pointwise/BatchNorm/batchnorm/mul_2=>Mul',\n",
       " 'MobilenetV1/MobilenetV1/Conv2d_6_depthwise/BatchNorm/batchnorm/mul=>Mul',\n",
       " 'MobilenetV1/MobilenetV1/Conv2d_6_depthwise/BatchNorm/batchnorm/mul_1=>Mul',\n",
       " 'MobilenetV1/MobilenetV1/Conv2d_6_depthwise/BatchNorm/batchnorm/mul_2=>Mul',\n",
       " 'MobilenetV1/MobilenetV1/Conv2d_6_pointwise/BatchNorm/batchnorm/mul=>Mul',\n",
       " 'MobilenetV1/MobilenetV1/Conv2d_6_pointwise/BatchNorm/batchnorm/mul_1=>Mul',\n",
       " 'MobilenetV1/MobilenetV1/Conv2d_6_pointwise/BatchNorm/batchnorm/mul_2=>Mul',\n",
       " 'MobilenetV1/MobilenetV1/Conv2d_7_depthwise/BatchNorm/batchnorm/mul=>Mul',\n",
       " 'MobilenetV1/MobilenetV1/Conv2d_7_depthwise/BatchNorm/batchnorm/mul_1=>Mul',\n",
       " 'MobilenetV1/MobilenetV1/Conv2d_7_depthwise/BatchNorm/batchnorm/mul_2=>Mul',\n",
       " 'MobilenetV1/MobilenetV1/Conv2d_7_pointwise/BatchNorm/batchnorm/mul=>Mul',\n",
       " 'MobilenetV1/MobilenetV1/Conv2d_7_pointwise/BatchNorm/batchnorm/mul_1=>Mul',\n",
       " 'MobilenetV1/MobilenetV1/Conv2d_7_pointwise/BatchNorm/batchnorm/mul_2=>Mul',\n",
       " 'MobilenetV1/MobilenetV1/Conv2d_8_depthwise/BatchNorm/batchnorm/mul=>Mul',\n",
       " 'MobilenetV1/MobilenetV1/Conv2d_8_depthwise/BatchNorm/batchnorm/mul_1=>Mul',\n",
       " 'MobilenetV1/MobilenetV1/Conv2d_8_depthwise/BatchNorm/batchnorm/mul_2=>Mul',\n",
       " 'MobilenetV1/MobilenetV1/Conv2d_8_pointwise/BatchNorm/batchnorm/mul=>Mul',\n",
       " 'MobilenetV1/MobilenetV1/Conv2d_8_pointwise/BatchNorm/batchnorm/mul_1=>Mul',\n",
       " 'MobilenetV1/MobilenetV1/Conv2d_8_pointwise/BatchNorm/batchnorm/mul_2=>Mul',\n",
       " 'MobilenetV1/MobilenetV1/Conv2d_9_depthwise/BatchNorm/batchnorm/mul=>Mul',\n",
       " 'MobilenetV1/MobilenetV1/Conv2d_9_depthwise/BatchNorm/batchnorm/mul_1=>Mul',\n",
       " 'MobilenetV1/MobilenetV1/Conv2d_9_depthwise/BatchNorm/batchnorm/mul_2=>Mul',\n",
       " 'MobilenetV1/MobilenetV1/Conv2d_9_pointwise/BatchNorm/batchnorm/mul=>Mul',\n",
       " 'MobilenetV1/MobilenetV1/Conv2d_9_pointwise/BatchNorm/batchnorm/mul_1=>Mul',\n",
       " 'MobilenetV1/MobilenetV1/Conv2d_9_pointwise/BatchNorm/batchnorm/mul_2=>Mul',\n",
       " 'MobilenetV1/MobilenetV1/Conv2d_10_depthwise/BatchNorm/batchnorm/mul=>Mul',\n",
       " 'MobilenetV1/MobilenetV1/Conv2d_10_depthwise/BatchNorm/batchnorm/mul_1=>Mul',\n",
       " 'MobilenetV1/MobilenetV1/Conv2d_10_depthwise/BatchNorm/batchnorm/mul_2=>Mul',\n",
       " 'MobilenetV1/MobilenetV1/Conv2d_10_pointwise/BatchNorm/batchnorm/mul=>Mul',\n",
       " 'MobilenetV1/MobilenetV1/Conv2d_10_pointwise/BatchNorm/batchnorm/mul_1=>Mul',\n",
       " 'MobilenetV1/MobilenetV1/Conv2d_10_pointwise/BatchNorm/batchnorm/mul_2=>Mul',\n",
       " 'MobilenetV1/MobilenetV1/Conv2d_11_depthwise/BatchNorm/batchnorm/mul=>Mul',\n",
       " 'MobilenetV1/MobilenetV1/Conv2d_11_depthwise/BatchNorm/batchnorm/mul_1=>Mul',\n",
       " 'MobilenetV1/MobilenetV1/Conv2d_11_depthwise/BatchNorm/batchnorm/mul_2=>Mul',\n",
       " 'MobilenetV1/MobilenetV1/Conv2d_11_pointwise/BatchNorm/batchnorm/mul=>Mul',\n",
       " 'MobilenetV1/MobilenetV1/Conv2d_11_pointwise/BatchNorm/batchnorm/mul_1=>Mul',\n",
       " 'MobilenetV1/MobilenetV1/Conv2d_11_pointwise/BatchNorm/batchnorm/mul_2=>Mul',\n",
       " 'MobilenetV1/MobilenetV1/Conv2d_12_depthwise/BatchNorm/batchnorm/mul=>Mul',\n",
       " 'MobilenetV1/MobilenetV1/Conv2d_12_depthwise/BatchNorm/batchnorm/mul_1=>Mul',\n",
       " 'MobilenetV1/MobilenetV1/Conv2d_12_depthwise/BatchNorm/batchnorm/mul_2=>Mul',\n",
       " 'MobilenetV1/MobilenetV1/Conv2d_12_pointwise/BatchNorm/batchnorm/mul=>Mul',\n",
       " 'MobilenetV1/MobilenetV1/Conv2d_12_pointwise/BatchNorm/batchnorm/mul_1=>Mul',\n",
       " 'MobilenetV1/MobilenetV1/Conv2d_12_pointwise/BatchNorm/batchnorm/mul_2=>Mul',\n",
       " 'MobilenetV1/MobilenetV1/Conv2d_13_depthwise/BatchNorm/batchnorm/mul=>Mul',\n",
       " 'MobilenetV1/MobilenetV1/Conv2d_13_depthwise/BatchNorm/batchnorm/mul_1=>Mul',\n",
       " 'MobilenetV1/MobilenetV1/Conv2d_13_depthwise/BatchNorm/batchnorm/mul_2=>Mul',\n",
       " 'MobilenetV1/MobilenetV1/Conv2d_13_pointwise/BatchNorm/batchnorm/mul=>Mul',\n",
       " 'MobilenetV1/MobilenetV1/Conv2d_13_pointwise/BatchNorm/batchnorm/mul_1=>Mul',\n",
       " 'MobilenetV1/MobilenetV1/Conv2d_13_pointwise/BatchNorm/batchnorm/mul_2=>Mul',\n",
       " 'final_result=>Softmax']"
      ]
     },
     "execution_count": 14,
     "metadata": {},
     "output_type": "execute_result"
    }
   ],
   "source": [
    "[n.name + '=>' +  n.op for n in gf.node if n.op in ( 'Softmax','Mul')]"
   ]
  },
  {
   "cell_type": "code",
   "execution_count": 15,
   "metadata": {},
   "outputs": [],
   "source": [
    "graph_def_file ='retrained_graph.pb'"
   ]
  },
  {
   "cell_type": "code",
   "execution_count": 16,
   "metadata": {},
   "outputs": [],
   "source": [
    "input_arrays = [\"input\"]   # Mul is input for inception model\n",
    "output_arrays = [\"final_result\"]"
   ]
  },
  {
   "cell_type": "code",
   "execution_count": 17,
   "metadata": {},
   "outputs": [],
   "source": [
    "#converter = tf.contrib.lite.TocoConverter.from_frozen_graph(graph_def_file, input_arrays, output_arrays)"
   ]
  },
  {
   "cell_type": "code",
   "execution_count": 18,
   "metadata": {},
   "outputs": [],
   "source": [
    "converter = tf.lite.TFLiteConverter.from_frozen_graph(graph_def_file, input_arrays, output_arrays)"
   ]
  },
  {
   "cell_type": "code",
   "execution_count": 19,
   "metadata": {},
   "outputs": [
    {
     "data": {
      "text/plain": [
       "5327576"
      ]
     },
     "execution_count": 19,
     "metadata": {},
     "output_type": "execute_result"
    }
   ],
   "source": [
    "tflite_model = converter.convert()\n",
    "open(\"converted_model.tflite\", \"wb\").write(tflite_model)"
   ]
  },
  {
   "cell_type": "code",
   "execution_count": null,
   "metadata": {},
   "outputs": [],
   "source": []
  }
 ],
 "metadata": {
  "kernelspec": {
   "display_name": "Python 3.6 (tensorflow)",
   "language": "python",
   "name": "tensorflow"
  },
  "language_info": {
   "codemirror_mode": {
    "name": "ipython",
    "version": 3
   },
   "file_extension": ".py",
   "mimetype": "text/x-python",
   "name": "python",
   "nbconvert_exporter": "python",
   "pygments_lexer": "ipython3",
   "version": "3.6.8"
  }
 },
 "nbformat": 4,
 "nbformat_minor": 2
}
